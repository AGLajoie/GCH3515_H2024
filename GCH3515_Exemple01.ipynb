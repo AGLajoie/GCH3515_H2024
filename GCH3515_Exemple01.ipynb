{
  "cells": [
    {
      "cell_type": "markdown",
      "metadata": {
        "id": "TLungASQ7k96"
      },
      "source": [
        " <div><center><img src=\"https://upload.wikimedia.org/wikipedia/fr/9/99/Logo_Polytechnique_Montr%C3%A9al.png\"\n",
        "width=\"300\"/></div>\n",
        "\n",
        "#    <center> GCH3515 Phénomènes d'échange — Exemple 01\n",
        "### <center> **Antony Gareau-Lajoie, CPI - Auxiliaire d'enseignement**\n",
        "### <center> Département de génie chimique\n",
        "### <center> Polytechnique Montréal\n"
      ]
    },
    {
      "cell_type": "code",
      "execution_count": 2,
      "metadata": {
        "colab": {
          "base_uri": "https://localhost:8080/"
        },
        "id": "7wZZQmQOYSgl",
        "outputId": "4d98cbdb-4b07-46c5-f4d1-7898c8f4e76c"
      },
      "outputs": [
        {
          "name": "stdout",
          "output_type": "stream",
          "text": [
            "Note: you may need to restart the kernel to use updated packages.\n",
            "Note: you may need to restart the kernel to use updated packages.\n",
            "Note: you may need to restart the kernel to use updated packages.\n",
            "Note: you may need to restart the kernel to use updated packages.\n"
          ]
        }
      ],
      "source": [
        "# INSTALLATION\n",
        "%pip install -q ipywidgets\n",
        "%pip install -q pint\n",
        "%pip install -q plotly\n",
        "%pip install -q kaleido"
      ]
    },
    {
      "cell_type": "code",
      "execution_count": 3,
      "metadata": {
        "id": "-YmcKWhq8NNW"
      },
      "outputs": [],
      "source": [
        "# IMPORTATION DES LIBRAIRIES\n",
        "import numpy as np\n",
        "import pint\n",
        "import plotly.graph_objects as go\n",
        "import plotly.io as pio\n",
        "from   ipywidgets import interactive\n",
        "\n",
        "# CONFIGURATION\n",
        "pio.templates.default = \"plotly_white\"\n",
        "u = pint.UnitRegistry()"
      ]
    },
    {
      "cell_type": "code",
      "execution_count": 4,
      "metadata": {
        "colab": {
          "base_uri": "https://localhost:8080/"
        },
        "id": "43aoZwkG8aeQ",
        "outputId": "99039f0d-68cf-4d33-8799-5ecb22f1a510"
      },
      "outputs": [
        {
          "name": "stdout",
          "output_type": "stream",
          "text": [
            "{'t': <Quantity(1.0, 'hour')>, 'v': <Quantity(200.0, 'meter / minute')>}\n"
          ]
        }
      ],
      "source": [
        "# DICTIONNAIRE DES CONSTANTES DU PROBLÈME\n",
        "dico = {\n",
        "    \"t\":1.0   *  u.hour,\n",
        "    \"v\":200.0 * (u.m/u.minute),\n",
        "        }\n",
        "print(dico)"
      ]
    },
    {
      "cell_type": "code",
      "execution_count": 5,
      "metadata": {
        "colab": {
          "base_uri": "https://localhost:8080/"
        },
        "id": "A9pRRVygOpAd",
        "outputId": "c2956fbd-e3f7-4f26-9ef6-2ce97d2d5250"
      },
      "outputs": [
        {
          "name": "stdout",
          "output_type": "stream",
          "text": [
            "\n",
            "    En 60 minutes et\n",
            "    en allant à une vitesse de 3.33 mètres par secondes,\n",
            "    j'ai parcouru 12.0 kilomètres.\n",
            "    \n"
          ]
        }
      ],
      "source": [
        "# EXEMPLE D'AFFICHAGE\n",
        "temps, vitesse = dico[\"t\"], dico[\"v\"]\n",
        "print(\n",
        "    \"\"\"\n",
        "    En {:.3g} minutes et\n",
        "    en allant à une vitesse de {:.3g} mètres par secondes,\n",
        "    j'ai parcouru {:.1f} kilomètres.\n",
        "    \"\"\".format(temps.to(u.minute).magnitude,\n",
        "               vitesse.to_base_units().magnitude,\n",
        "               (temps*vitesse).to(u.km).magnitude))"
      ]
    },
    {
      "cell_type": "code",
      "execution_count": 6,
      "metadata": {
        "id": "KKmIIgTu8sH_"
      },
      "outputs": [],
      "source": [
        "# RÉSOLUTION SYMBOLIQUE"
      ]
    },
    {
      "cell_type": "code",
      "execution_count": 7,
      "metadata": {
        "id": "OVcIWNeE8mHk"
      },
      "outputs": [],
      "source": [
        "# RÉSOLUTION NUMÉRIQUE"
      ]
    },
    {
      "cell_type": "code",
      "execution_count": 8,
      "metadata": {},
      "outputs": [
        {
          "name": "stdout",
          "output_type": "stream",
          "text": [
            "[[ 3.  6. 11. 18. 27.]\n",
            " [ 5.  8. 13. 20. 29.]\n",
            " [ 7. 10. 15. 22. 31.]\n",
            " [ 9. 12. 17. 24. 33.]\n",
            " [11. 14. 19. 26. 35.]]\n"
          ]
        }
      ],
      "source": [
        "# PRÉPARATION POUR VISUALISATION\n",
        "def f(x, y):\n",
        "    return 2*x + y**2\n",
        "\n",
        "x_vecteur = [1, 2, 3, 4, 5]\n",
        "y_vecteur = [1, 2, 3, 4, 5]\n",
        "z_matrice = np.empty((0, len(y_vecteur)))\n",
        "for x in x_vecteur :\n",
        "    z_liste = []\n",
        "    for y in y_vecteur :\n",
        "        z_liste.append(f(x,y))\n",
        "    z_matrice = np.append(z_matrice,np.array([z_liste]),axis=0)\n",
        "\n",
        "print(z_matrice)"
      ]
    },
    {
      "cell_type": "code",
      "execution_count": 17,
      "metadata": {},
      "outputs": [
        {
          "data": {
            "application/vnd.jupyter.widget-view+json": {
              "model_id": "7831b19ebd4d4fada4d4a92776a2eacf",
              "version_major": 2,
              "version_minor": 0
            },
            "text/plain": [
              "interactive(children=(FloatSlider(value=5.0, description='c1', max=10.0, step=0.5), FloatSlider(value=5.0, des…"
            ]
          },
          "metadata": {},
          "output_type": "display_data"
        }
      ],
      "source": [
        "# VISUALISATION INTERACTIVE\n",
        "def graphique_interactif(c1, c2):\n",
        "\n",
        "    def f(x, y, c1, c2):\n",
        "        return c1*x + y**c2\n",
        "\n",
        "    x_vecteur = np.linspace(0,10,10)\n",
        "    y_vecteur = np.linspace(0,10,10)\n",
        "    z_matrice = np.empty((0, len(y_vecteur)))\n",
        "    for x in x_vecteur :\n",
        "        z_liste = []\n",
        "        for y in y_vecteur :\n",
        "            z_liste.append(f(x, y, c1, c2))\n",
        "        z_matrice = np.append(z_matrice,np.array([z_liste]),axis=0)\n",
        "\n",
        "    # VISUALISATION\n",
        "    fig = go.Figure(data = go.Contour(x=x_vecteur, y=y_vecteur, z=z_matrice))\n",
        "\n",
        "    fig.update_layout(dict(title=dict(text=\"Visualisation en courbes de niveaux\",\n",
        "                                    font_size=20),\n",
        "\n",
        "                        xaxis=dict(title=\"x2 [-]\",\n",
        "                                    titlefont_size=16,\n",
        "                                    linecolor=\"black\",\n",
        "                                    showline=True,\n",
        "                                    mirror=True,\n",
        "                                    linewidth=1,\n",
        "                                    gridcolor='darkgray',\n",
        "                                    gridwidth=1,\n",
        "                                    zeroline=False\n",
        "                                    ),\n",
        "\n",
        "                        yaxis=dict(title=\"x1 [-]\",\n",
        "                                    titlefont_size=16,\n",
        "                                    linecolor=\"black\",\n",
        "                                    showline=True,\n",
        "                                    mirror=True,\n",
        "                                    linewidth=1,\n",
        "                                    gridcolor='darkgray',\n",
        "                                    gridwidth=1,\n",
        "                                    zeroline=False\n",
        "                                    ),\n",
        "\n",
        "                        coloraxis=dict(colorbar_title_text=\"x3\"),\n",
        "\n",
        "                        width=700,\n",
        "                        height=500,\n",
        "    ))\n",
        "\n",
        "    fig.show(renderer=\"svg\")\n",
        "\n",
        "\n",
        "interactive_plot = interactive(graphique_interactif, c1=(0.0, 10.0, 0.5), c2=(0.0, 10, 0.5))\n",
        "output = interactive_plot.children[-1]\n",
        "output.layout.height = '500px'\n",
        "interactive_plot\n"
      ]
    },
    {
      "cell_type": "code",
      "execution_count": null,
      "metadata": {},
      "outputs": [],
      "source": []
    }
  ],
  "metadata": {
    "colab": {
      "provenance": [],
      "toc_visible": true
    },
    "kernelspec": {
      "display_name": "Python 3",
      "name": "python3"
    },
    "language_info": {
      "codemirror_mode": {
        "name": "ipython",
        "version": 3
      },
      "file_extension": ".py",
      "mimetype": "text/x-python",
      "name": "python",
      "nbconvert_exporter": "python",
      "pygments_lexer": "ipython3",
      "version": "3.9.13"
    }
  },
  "nbformat": 4,
  "nbformat_minor": 0
}
