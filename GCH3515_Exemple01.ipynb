{
  "cells": [
    {
      "cell_type": "markdown",
      "metadata": {
        "id": "TLungASQ7k96"
      },
      "source": [
        " <div><center><img src=\"https://upload.wikimedia.org/wikipedia/fr/9/99/Logo_Polytechnique_Montr%C3%A9al.png\"\n",
        "width=\"300\"/></div>\n",
        "\n",
        "#    <center> GCH3515 Phénomènes d'échange — Exemple 01\n",
        "### <center> **Antony Gareau-Lajoie, CPI - Auxiliaire d'enseignement**\n",
        "### <center> Département de génie chimique\n",
        "### <center> Polytechnique Montréal\n"
      ]
    },
    {
      "cell_type": "code",
      "execution_count": 1,
      "metadata": {
        "colab": {
          "base_uri": "https://localhost:8080/"
        },
        "id": "7wZZQmQOYSgl",
        "outputId": "4d98cbdb-4b07-46c5-f4d1-7898c8f4e76c"
      },
      "outputs": [
        {
          "name": "stdout",
          "output_type": "stream",
          "text": [
            "Note: you may need to restart the kernel to use updated packages.\n",
            "Note: you may need to restart the kernel to use updated packages.\n",
            "Note: you may need to restart the kernel to use updated packages.\n",
            "Note: you may need to restart the kernel to use updated packages.\n"
          ]
        }
      ],
      "source": [
        "# INSTALLATION\n",
        "%pip install -q ipywidgets\n",
        "%pip install -q pint\n",
        "%pip install -q plotly\n",
        "%pip install -q chart_studio"
      ]
    },
    {
      "cell_type": "code",
      "execution_count": 2,
      "metadata": {
        "id": "-YmcKWhq8NNW"
      },
      "outputs": [],
      "source": [
        "# IMPORTATION DES LIBRAIRIES\n",
        "import numpy as np\n",
        "import pint\n",
        "import plotly.graph_objects as go\n",
        "import plotly.io as pio\n",
        "from ipywidgets import interactive\n",
        "import chart_studio.plotly as py\n",
        "\n",
        "\n",
        "# CONFIGURATION\n",
        "pio.templates.default = \"plotly_white\"\n",
        "u = pint.UnitRegistry()"
      ]
    },
    {
      "cell_type": "code",
      "execution_count": 3,
      "metadata": {
        "colab": {
          "base_uri": "https://localhost:8080/"
        },
        "id": "43aoZwkG8aeQ",
        "outputId": "99039f0d-68cf-4d33-8799-5ecb22f1a510"
      },
      "outputs": [
        {
          "name": "stdout",
          "output_type": "stream",
          "text": [
            "{'t': <Quantity(1.0, 'hour')>, 'v': <Quantity(200.0, 'meter / minute')>}\n"
          ]
        }
      ],
      "source": [
        "# DICTIONNAIRE DES CONSTANTES DU PROBLÈME\n",
        "dico = {\n",
        "    \"t\":1.0   *  u.hour,\n",
        "    \"v\":200.0 * (u.m/u.minute),\n",
        "        }\n",
        "print(dico)"
      ]
    },
    {
      "cell_type": "code",
      "execution_count": 4,
      "metadata": {
        "colab": {
          "base_uri": "https://localhost:8080/"
        },
        "id": "A9pRRVygOpAd",
        "outputId": "c2956fbd-e3f7-4f26-9ef6-2ce97d2d5250"
      },
      "outputs": [
        {
          "name": "stdout",
          "output_type": "stream",
          "text": [
            "\n",
            "    En 60 minutes et\n",
            "    en allant à une vitesse de 3.33 mètres par secondes,\n",
            "    j'ai parcouru 12.0 kilomètres.\n",
            "    \n"
          ]
        }
      ],
      "source": [
        "# EXEMPLE D'AFFICHAGE\n",
        "temps, vitesse = dico[\"t\"], dico[\"v\"]\n",
        "print(\n",
        "    \"\"\"\n",
        "    En {:.3g} minutes et\n",
        "    en allant à une vitesse de {:.3g} mètres par secondes,\n",
        "    j'ai parcouru {:.1f} kilomètres.\n",
        "    \"\"\".format(temps.to(u.minute).magnitude,\n",
        "               vitesse.to_base_units().magnitude,\n",
        "               (temps*vitesse).to(u.km).magnitude))"
      ]
    },
    {
      "cell_type": "code",
      "execution_count": 5,
      "metadata": {
        "id": "KKmIIgTu8sH_"
      },
      "outputs": [],
      "source": [
        "# RÉSOLUTION SYMBOLIQUE"
      ]
    },
    {
      "cell_type": "code",
      "execution_count": 6,
      "metadata": {
        "id": "OVcIWNeE8mHk"
      },
      "outputs": [],
      "source": [
        "# RÉSOLUTION NUMÉRIQUE"
      ]
    },
    {
      "cell_type": "code",
      "execution_count": 7,
      "metadata": {},
      "outputs": [
        {
          "name": "stdout",
          "output_type": "stream",
          "text": [
            "[[ 3.  6. 11. 18. 27.]\n",
            " [ 5.  8. 13. 20. 29.]\n",
            " [ 7. 10. 15. 22. 31.]\n",
            " [ 9. 12. 17. 24. 33.]\n",
            " [11. 14. 19. 26. 35.]]\n"
          ]
        }
      ],
      "source": [
        "# PRÉPARATION POUR VISUALISATION\n",
        "def f(x, y):\n",
        "    return 2*x + y**2\n",
        "\n",
        "x_vecteur = [1, 2, 3, 4, 5]\n",
        "y_vecteur = [1, 2, 3, 4, 5]\n",
        "z_matrice = np.empty((0, len(y_vecteur)))\n",
        "for x in x_vecteur :\n",
        "    z_liste = []\n",
        "    for y in y_vecteur :\n",
        "        z_liste.append(f(x,y))\n",
        "    z_matrice = np.append(z_matrice,np.array([z_liste]),axis=0)\n",
        "\n",
        "print(z_matrice)"
      ]
    },
    {
      "cell_type": "code",
      "execution_count": 8,
      "metadata": {
        "colab": {
          "base_uri": "https://localhost:8080/",
          "height": 417
        },
        "id": "m2Bmw8wq8j_H",
        "outputId": "20beddc3-418d-4472-bcaf-afc616b2265f"
      },
      "outputs": [
        {
          "data": {
            "application/vnd.plotly.v1+json": {
              "config": {
                "plotlyServerURL": "https://plot.ly"
              },
              "data": [
                {
                  "type": "contour",
                  "x": [
                    1,
                    2,
                    3,
                    4,
                    5
                  ],
                  "y": [
                    1,
                    2,
                    3,
                    4,
                    5
                  ],
                  "z": [
                    [
                      3,
                      6,
                      11,
                      18,
                      27
                    ],
                    [
                      5,
                      8,
                      13,
                      20,
                      29
                    ],
                    [
                      7,
                      10,
                      15,
                      22,
                      31
                    ],
                    [
                      9,
                      12,
                      17,
                      24,
                      33
                    ],
                    [
                      11,
                      14,
                      19,
                      26,
                      35
                    ]
                  ]
                }
              ],
              "layout": {
                "coloraxis": {
                  "colorbar": {
                    "title": {
                      "text": "x3"
                    }
                  }
                },
                "height": 500,
                "template": {
                  "data": {
                    "bar": [
                      {
                        "error_x": {
                          "color": "#2a3f5f"
                        },
                        "error_y": {
                          "color": "#2a3f5f"
                        },
                        "marker": {
                          "line": {
                            "color": "white",
                            "width": 0.5
                          },
                          "pattern": {
                            "fillmode": "overlay",
                            "size": 10,
                            "solidity": 0.2
                          }
                        },
                        "type": "bar"
                      }
                    ],
                    "barpolar": [
                      {
                        "marker": {
                          "line": {
                            "color": "white",
                            "width": 0.5
                          },
                          "pattern": {
                            "fillmode": "overlay",
                            "size": 10,
                            "solidity": 0.2
                          }
                        },
                        "type": "barpolar"
                      }
                    ],
                    "carpet": [
                      {
                        "aaxis": {
                          "endlinecolor": "#2a3f5f",
                          "gridcolor": "#C8D4E3",
                          "linecolor": "#C8D4E3",
                          "minorgridcolor": "#C8D4E3",
                          "startlinecolor": "#2a3f5f"
                        },
                        "baxis": {
                          "endlinecolor": "#2a3f5f",
                          "gridcolor": "#C8D4E3",
                          "linecolor": "#C8D4E3",
                          "minorgridcolor": "#C8D4E3",
                          "startlinecolor": "#2a3f5f"
                        },
                        "type": "carpet"
                      }
                    ],
                    "choropleth": [
                      {
                        "colorbar": {
                          "outlinewidth": 0,
                          "ticks": ""
                        },
                        "type": "choropleth"
                      }
                    ],
                    "contour": [
                      {
                        "colorbar": {
                          "outlinewidth": 0,
                          "ticks": ""
                        },
                        "colorscale": [
                          [
                            0,
                            "#0d0887"
                          ],
                          [
                            0.1111111111111111,
                            "#46039f"
                          ],
                          [
                            0.2222222222222222,
                            "#7201a8"
                          ],
                          [
                            0.3333333333333333,
                            "#9c179e"
                          ],
                          [
                            0.4444444444444444,
                            "#bd3786"
                          ],
                          [
                            0.5555555555555556,
                            "#d8576b"
                          ],
                          [
                            0.6666666666666666,
                            "#ed7953"
                          ],
                          [
                            0.7777777777777778,
                            "#fb9f3a"
                          ],
                          [
                            0.8888888888888888,
                            "#fdca26"
                          ],
                          [
                            1,
                            "#f0f921"
                          ]
                        ],
                        "type": "contour"
                      }
                    ],
                    "contourcarpet": [
                      {
                        "colorbar": {
                          "outlinewidth": 0,
                          "ticks": ""
                        },
                        "type": "contourcarpet"
                      }
                    ],
                    "heatmap": [
                      {
                        "colorbar": {
                          "outlinewidth": 0,
                          "ticks": ""
                        },
                        "colorscale": [
                          [
                            0,
                            "#0d0887"
                          ],
                          [
                            0.1111111111111111,
                            "#46039f"
                          ],
                          [
                            0.2222222222222222,
                            "#7201a8"
                          ],
                          [
                            0.3333333333333333,
                            "#9c179e"
                          ],
                          [
                            0.4444444444444444,
                            "#bd3786"
                          ],
                          [
                            0.5555555555555556,
                            "#d8576b"
                          ],
                          [
                            0.6666666666666666,
                            "#ed7953"
                          ],
                          [
                            0.7777777777777778,
                            "#fb9f3a"
                          ],
                          [
                            0.8888888888888888,
                            "#fdca26"
                          ],
                          [
                            1,
                            "#f0f921"
                          ]
                        ],
                        "type": "heatmap"
                      }
                    ],
                    "heatmapgl": [
                      {
                        "colorbar": {
                          "outlinewidth": 0,
                          "ticks": ""
                        },
                        "colorscale": [
                          [
                            0,
                            "#0d0887"
                          ],
                          [
                            0.1111111111111111,
                            "#46039f"
                          ],
                          [
                            0.2222222222222222,
                            "#7201a8"
                          ],
                          [
                            0.3333333333333333,
                            "#9c179e"
                          ],
                          [
                            0.4444444444444444,
                            "#bd3786"
                          ],
                          [
                            0.5555555555555556,
                            "#d8576b"
                          ],
                          [
                            0.6666666666666666,
                            "#ed7953"
                          ],
                          [
                            0.7777777777777778,
                            "#fb9f3a"
                          ],
                          [
                            0.8888888888888888,
                            "#fdca26"
                          ],
                          [
                            1,
                            "#f0f921"
                          ]
                        ],
                        "type": "heatmapgl"
                      }
                    ],
                    "histogram": [
                      {
                        "marker": {
                          "pattern": {
                            "fillmode": "overlay",
                            "size": 10,
                            "solidity": 0.2
                          }
                        },
                        "type": "histogram"
                      }
                    ],
                    "histogram2d": [
                      {
                        "colorbar": {
                          "outlinewidth": 0,
                          "ticks": ""
                        },
                        "colorscale": [
                          [
                            0,
                            "#0d0887"
                          ],
                          [
                            0.1111111111111111,
                            "#46039f"
                          ],
                          [
                            0.2222222222222222,
                            "#7201a8"
                          ],
                          [
                            0.3333333333333333,
                            "#9c179e"
                          ],
                          [
                            0.4444444444444444,
                            "#bd3786"
                          ],
                          [
                            0.5555555555555556,
                            "#d8576b"
                          ],
                          [
                            0.6666666666666666,
                            "#ed7953"
                          ],
                          [
                            0.7777777777777778,
                            "#fb9f3a"
                          ],
                          [
                            0.8888888888888888,
                            "#fdca26"
                          ],
                          [
                            1,
                            "#f0f921"
                          ]
                        ],
                        "type": "histogram2d"
                      }
                    ],
                    "histogram2dcontour": [
                      {
                        "colorbar": {
                          "outlinewidth": 0,
                          "ticks": ""
                        },
                        "colorscale": [
                          [
                            0,
                            "#0d0887"
                          ],
                          [
                            0.1111111111111111,
                            "#46039f"
                          ],
                          [
                            0.2222222222222222,
                            "#7201a8"
                          ],
                          [
                            0.3333333333333333,
                            "#9c179e"
                          ],
                          [
                            0.4444444444444444,
                            "#bd3786"
                          ],
                          [
                            0.5555555555555556,
                            "#d8576b"
                          ],
                          [
                            0.6666666666666666,
                            "#ed7953"
                          ],
                          [
                            0.7777777777777778,
                            "#fb9f3a"
                          ],
                          [
                            0.8888888888888888,
                            "#fdca26"
                          ],
                          [
                            1,
                            "#f0f921"
                          ]
                        ],
                        "type": "histogram2dcontour"
                      }
                    ],
                    "mesh3d": [
                      {
                        "colorbar": {
                          "outlinewidth": 0,
                          "ticks": ""
                        },
                        "type": "mesh3d"
                      }
                    ],
                    "parcoords": [
                      {
                        "line": {
                          "colorbar": {
                            "outlinewidth": 0,
                            "ticks": ""
                          }
                        },
                        "type": "parcoords"
                      }
                    ],
                    "pie": [
                      {
                        "automargin": true,
                        "type": "pie"
                      }
                    ],
                    "scatter": [
                      {
                        "fillpattern": {
                          "fillmode": "overlay",
                          "size": 10,
                          "solidity": 0.2
                        },
                        "type": "scatter"
                      }
                    ],
                    "scatter3d": [
                      {
                        "line": {
                          "colorbar": {
                            "outlinewidth": 0,
                            "ticks": ""
                          }
                        },
                        "marker": {
                          "colorbar": {
                            "outlinewidth": 0,
                            "ticks": ""
                          }
                        },
                        "type": "scatter3d"
                      }
                    ],
                    "scattercarpet": [
                      {
                        "marker": {
                          "colorbar": {
                            "outlinewidth": 0,
                            "ticks": ""
                          }
                        },
                        "type": "scattercarpet"
                      }
                    ],
                    "scattergeo": [
                      {
                        "marker": {
                          "colorbar": {
                            "outlinewidth": 0,
                            "ticks": ""
                          }
                        },
                        "type": "scattergeo"
                      }
                    ],
                    "scattergl": [
                      {
                        "marker": {
                          "colorbar": {
                            "outlinewidth": 0,
                            "ticks": ""
                          }
                        },
                        "type": "scattergl"
                      }
                    ],
                    "scattermapbox": [
                      {
                        "marker": {
                          "colorbar": {
                            "outlinewidth": 0,
                            "ticks": ""
                          }
                        },
                        "type": "scattermapbox"
                      }
                    ],
                    "scatterpolar": [
                      {
                        "marker": {
                          "colorbar": {
                            "outlinewidth": 0,
                            "ticks": ""
                          }
                        },
                        "type": "scatterpolar"
                      }
                    ],
                    "scatterpolargl": [
                      {
                        "marker": {
                          "colorbar": {
                            "outlinewidth": 0,
                            "ticks": ""
                          }
                        },
                        "type": "scatterpolargl"
                      }
                    ],
                    "scatterternary": [
                      {
                        "marker": {
                          "colorbar": {
                            "outlinewidth": 0,
                            "ticks": ""
                          }
                        },
                        "type": "scatterternary"
                      }
                    ],
                    "surface": [
                      {
                        "colorbar": {
                          "outlinewidth": 0,
                          "ticks": ""
                        },
                        "colorscale": [
                          [
                            0,
                            "#0d0887"
                          ],
                          [
                            0.1111111111111111,
                            "#46039f"
                          ],
                          [
                            0.2222222222222222,
                            "#7201a8"
                          ],
                          [
                            0.3333333333333333,
                            "#9c179e"
                          ],
                          [
                            0.4444444444444444,
                            "#bd3786"
                          ],
                          [
                            0.5555555555555556,
                            "#d8576b"
                          ],
                          [
                            0.6666666666666666,
                            "#ed7953"
                          ],
                          [
                            0.7777777777777778,
                            "#fb9f3a"
                          ],
                          [
                            0.8888888888888888,
                            "#fdca26"
                          ],
                          [
                            1,
                            "#f0f921"
                          ]
                        ],
                        "type": "surface"
                      }
                    ],
                    "table": [
                      {
                        "cells": {
                          "fill": {
                            "color": "#EBF0F8"
                          },
                          "line": {
                            "color": "white"
                          }
                        },
                        "header": {
                          "fill": {
                            "color": "#C8D4E3"
                          },
                          "line": {
                            "color": "white"
                          }
                        },
                        "type": "table"
                      }
                    ]
                  },
                  "layout": {
                    "annotationdefaults": {
                      "arrowcolor": "#2a3f5f",
                      "arrowhead": 0,
                      "arrowwidth": 1
                    },
                    "autotypenumbers": "strict",
                    "coloraxis": {
                      "colorbar": {
                        "outlinewidth": 0,
                        "ticks": ""
                      }
                    },
                    "colorscale": {
                      "diverging": [
                        [
                          0,
                          "#8e0152"
                        ],
                        [
                          0.1,
                          "#c51b7d"
                        ],
                        [
                          0.2,
                          "#de77ae"
                        ],
                        [
                          0.3,
                          "#f1b6da"
                        ],
                        [
                          0.4,
                          "#fde0ef"
                        ],
                        [
                          0.5,
                          "#f7f7f7"
                        ],
                        [
                          0.6,
                          "#e6f5d0"
                        ],
                        [
                          0.7,
                          "#b8e186"
                        ],
                        [
                          0.8,
                          "#7fbc41"
                        ],
                        [
                          0.9,
                          "#4d9221"
                        ],
                        [
                          1,
                          "#276419"
                        ]
                      ],
                      "sequential": [
                        [
                          0,
                          "#0d0887"
                        ],
                        [
                          0.1111111111111111,
                          "#46039f"
                        ],
                        [
                          0.2222222222222222,
                          "#7201a8"
                        ],
                        [
                          0.3333333333333333,
                          "#9c179e"
                        ],
                        [
                          0.4444444444444444,
                          "#bd3786"
                        ],
                        [
                          0.5555555555555556,
                          "#d8576b"
                        ],
                        [
                          0.6666666666666666,
                          "#ed7953"
                        ],
                        [
                          0.7777777777777778,
                          "#fb9f3a"
                        ],
                        [
                          0.8888888888888888,
                          "#fdca26"
                        ],
                        [
                          1,
                          "#f0f921"
                        ]
                      ],
                      "sequentialminus": [
                        [
                          0,
                          "#0d0887"
                        ],
                        [
                          0.1111111111111111,
                          "#46039f"
                        ],
                        [
                          0.2222222222222222,
                          "#7201a8"
                        ],
                        [
                          0.3333333333333333,
                          "#9c179e"
                        ],
                        [
                          0.4444444444444444,
                          "#bd3786"
                        ],
                        [
                          0.5555555555555556,
                          "#d8576b"
                        ],
                        [
                          0.6666666666666666,
                          "#ed7953"
                        ],
                        [
                          0.7777777777777778,
                          "#fb9f3a"
                        ],
                        [
                          0.8888888888888888,
                          "#fdca26"
                        ],
                        [
                          1,
                          "#f0f921"
                        ]
                      ]
                    },
                    "colorway": [
                      "#636efa",
                      "#EF553B",
                      "#00cc96",
                      "#ab63fa",
                      "#FFA15A",
                      "#19d3f3",
                      "#FF6692",
                      "#B6E880",
                      "#FF97FF",
                      "#FECB52"
                    ],
                    "font": {
                      "color": "#2a3f5f"
                    },
                    "geo": {
                      "bgcolor": "white",
                      "lakecolor": "white",
                      "landcolor": "white",
                      "showlakes": true,
                      "showland": true,
                      "subunitcolor": "#C8D4E3"
                    },
                    "hoverlabel": {
                      "align": "left"
                    },
                    "hovermode": "closest",
                    "mapbox": {
                      "style": "light"
                    },
                    "paper_bgcolor": "white",
                    "plot_bgcolor": "white",
                    "polar": {
                      "angularaxis": {
                        "gridcolor": "#EBF0F8",
                        "linecolor": "#EBF0F8",
                        "ticks": ""
                      },
                      "bgcolor": "white",
                      "radialaxis": {
                        "gridcolor": "#EBF0F8",
                        "linecolor": "#EBF0F8",
                        "ticks": ""
                      }
                    },
                    "scene": {
                      "xaxis": {
                        "backgroundcolor": "white",
                        "gridcolor": "#DFE8F3",
                        "gridwidth": 2,
                        "linecolor": "#EBF0F8",
                        "showbackground": true,
                        "ticks": "",
                        "zerolinecolor": "#EBF0F8"
                      },
                      "yaxis": {
                        "backgroundcolor": "white",
                        "gridcolor": "#DFE8F3",
                        "gridwidth": 2,
                        "linecolor": "#EBF0F8",
                        "showbackground": true,
                        "ticks": "",
                        "zerolinecolor": "#EBF0F8"
                      },
                      "zaxis": {
                        "backgroundcolor": "white",
                        "gridcolor": "#DFE8F3",
                        "gridwidth": 2,
                        "linecolor": "#EBF0F8",
                        "showbackground": true,
                        "ticks": "",
                        "zerolinecolor": "#EBF0F8"
                      }
                    },
                    "shapedefaults": {
                      "line": {
                        "color": "#2a3f5f"
                      }
                    },
                    "ternary": {
                      "aaxis": {
                        "gridcolor": "#DFE8F3",
                        "linecolor": "#A2B1C6",
                        "ticks": ""
                      },
                      "baxis": {
                        "gridcolor": "#DFE8F3",
                        "linecolor": "#A2B1C6",
                        "ticks": ""
                      },
                      "bgcolor": "white",
                      "caxis": {
                        "gridcolor": "#DFE8F3",
                        "linecolor": "#A2B1C6",
                        "ticks": ""
                      }
                    },
                    "title": {
                      "x": 0.05
                    },
                    "xaxis": {
                      "automargin": true,
                      "gridcolor": "#EBF0F8",
                      "linecolor": "#EBF0F8",
                      "ticks": "",
                      "title": {
                        "standoff": 15
                      },
                      "zerolinecolor": "#EBF0F8",
                      "zerolinewidth": 2
                    },
                    "yaxis": {
                      "automargin": true,
                      "gridcolor": "#EBF0F8",
                      "linecolor": "#EBF0F8",
                      "ticks": "",
                      "title": {
                        "standoff": 15
                      },
                      "zerolinecolor": "#EBF0F8",
                      "zerolinewidth": 2
                    }
                  }
                },
                "title": {
                  "font": {
                    "size": 20
                  },
                  "text": "Visualisation en courbes de niveaux"
                },
                "width": 700,
                "xaxis": {
                  "gridcolor": "darkgray",
                  "gridwidth": 1,
                  "linecolor": "black",
                  "linewidth": 1,
                  "mirror": true,
                  "showline": true,
                  "title": {
                    "font": {
                      "size": 16
                    },
                    "text": "x2 [-]"
                  },
                  "zeroline": false
                },
                "yaxis": {
                  "gridcolor": "darkgray",
                  "gridwidth": 1,
                  "linecolor": "black",
                  "linewidth": 1,
                  "mirror": true,
                  "showline": true,
                  "title": {
                    "font": {
                      "size": 16
                    },
                    "text": "x1 [-]"
                  },
                  "zeroline": false
                }
              }
            }
          },
          "metadata": {},
          "output_type": "display_data"
        }
      ],
      "source": [
        "# VISUALISATION\n",
        "fig = go.Figure(data = go.Contour(x=x_vecteur, y=y_vecteur, z=z_matrice))\n",
        "\n",
        "fig.update_layout(dict(title=dict(text=\"Visualisation en courbes de niveaux\",\n",
        "                                  font_size=20),\n",
        "\n",
        "                       xaxis=dict(title=\"x2 [-]\",\n",
        "                                  titlefont_size=16,\n",
        "                                  linecolor=\"black\",\n",
        "                                  showline=True,\n",
        "                                  mirror=True,\n",
        "                                  linewidth=1,\n",
        "                                  gridcolor='darkgray',\n",
        "                                  gridwidth=1,\n",
        "                                  zeroline=False\n",
        "                                 ),\n",
        "\n",
        "                       yaxis=dict(title=\"x1 [-]\",\n",
        "                                  titlefont_size=16,\n",
        "                                  linecolor=\"black\",\n",
        "                                  showline=True,\n",
        "                                  mirror=True,\n",
        "                                  linewidth=1,\n",
        "                                  gridcolor='darkgray',\n",
        "                                  gridwidth=1,\n",
        "                                  zeroline=False\n",
        "                                  ),\n",
        "\n",
        "                       coloraxis=dict(colorbar_title_text=\"x3\"),\n",
        "\n",
        "                       width=700,\n",
        "                       height=500,\n",
        "))\n",
        "\n",
        "fig.show()"
      ]
    },
    {
      "cell_type": "code",
      "execution_count": 10,
      "metadata": {},
      "outputs": [
        {
          "data": {
            "application/vnd.jupyter.widget-view+json": {
              "model_id": "d4930bb15b384a6e85f579a5530257ba",
              "version_major": 2,
              "version_minor": 0
            },
            "text/plain": [
              "interactive(children=(FloatSlider(value=0.0, description='c1', max=2.0, min=-2.0, step=0.5), FloatSlider(value…"
            ]
          },
          "metadata": {},
          "output_type": "display_data"
        }
      ],
      "source": [
        "# VISUALISATION INTERACTIVE\n",
        "def graphique_interactif(c1, c2):\n",
        "\n",
        "    def f(x, y, c1, c2):\n",
        "        return c1*x + y**c2\n",
        "\n",
        "    x_vecteur = [1, 2, 3, 4, 5] \n",
        "    y_vecteur = [1, 2, 3, 4, 5]  \n",
        "    z_matrice = np.empty((0, len(y_vecteur)))\n",
        "    for x in x_vecteur :\n",
        "        z_liste = []\n",
        "        for y in y_vecteur :\n",
        "            z_liste.append(f(x, y, c1, c2))\n",
        "        z_matrice = np.append(z_matrice,np.array([z_liste]),axis=0)\n",
        "\n",
        "    # VISUALISATION\n",
        "    fig = go.Figure(data = go.Contour(x=x_vecteur, y=y_vecteur, z=z_matrice))\n",
        "\n",
        "    fig.update_layout(dict(title=dict(text=\"Visualisation en courbes de niveaux\",\n",
        "                                    font_size=20),\n",
        "\n",
        "                        xaxis=dict(title=\"x2 [-]\",\n",
        "                                    titlefont_size=16,\n",
        "                                    linecolor=\"black\",\n",
        "                                    showline=True,\n",
        "                                    mirror=True,\n",
        "                                    linewidth=1,\n",
        "                                    gridcolor='darkgray',\n",
        "                                    gridwidth=1,\n",
        "                                    zeroline=False\n",
        "                                    ),\n",
        "\n",
        "                        yaxis=dict(title=\"x1 [-]\",\n",
        "                                    titlefont_size=16,\n",
        "                                    linecolor=\"black\",\n",
        "                                    showline=True,\n",
        "                                    mirror=True,\n",
        "                                    linewidth=1,\n",
        "                                    gridcolor='darkgray',\n",
        "                                    gridwidth=1,\n",
        "                                    zeroline=False\n",
        "                                    ),\n",
        "\n",
        "                        coloraxis=dict(colorbar_title_text=\"x3\"),\n",
        "\n",
        "                        width=700,\n",
        "                        height=500,\n",
        "    ))\n",
        "\n",
        "    py.iplot(fig, filename='jupyter-parametric_plot')\n",
        "\n",
        "\n",
        "    #fig.show()\n",
        "\n",
        "interactive_plot = interactive(graphique_interactif, c1=(-2.0, 2.0, 0.5), c2=(-3, 3, 0.5))\n",
        "output = interactive_plot.children[-1]\n",
        "output.layout.height = '200px'\n",
        "interactive_plot\n"
      ]
    },
    {
      "cell_type": "code",
      "execution_count": null,
      "metadata": {},
      "outputs": [],
      "source": []
    }
  ],
  "metadata": {
    "colab": {
      "provenance": [],
      "toc_visible": true
    },
    "kernelspec": {
      "display_name": "Python 3",
      "name": "python3"
    },
    "language_info": {
      "codemirror_mode": {
        "name": "ipython",
        "version": 3
      },
      "file_extension": ".py",
      "mimetype": "text/x-python",
      "name": "python",
      "nbconvert_exporter": "python",
      "pygments_lexer": "ipython3",
      "version": "3.9.13"
    }
  },
  "nbformat": 4,
  "nbformat_minor": 0
}
