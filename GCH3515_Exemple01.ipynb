{
  "cells": [
    {
      "cell_type": "markdown",
      "metadata": {
        "id": "TLungASQ7k96"
      },
      "source": [
        " <div><center><img src=\"https://upload.wikimedia.org/wikipedia/fr/9/99/Logo_Polytechnique_Montr%C3%A9al.png\"\n",
        "width=\"300\"/></div>\n",
        "\n",
        "#    <center> GCH3515 Phénomènes d'échanges — Exemple 01\n",
        "### <center> **Antony Gareau-Lajoie, CPI - Auxiliaire d'enseignement**\n",
        "### <center> Département de génie chimique\n",
        "### <center> Polytechnique Montréal\n"
      ]
    },
    {
      "cell_type": "code",
      "execution_count": 19,
      "metadata": {
        "colab": {
          "base_uri": "https://localhost:8080/"
        },
        "id": "7wZZQmQOYSgl",
        "outputId": "4d98cbdb-4b07-46c5-f4d1-7898c8f4e76c",
        "tags": []
      },
      "outputs": [
        {
          "name": "stdout",
          "output_type": "stream",
          "text": [
            "^C\n",
            "Note: you may need to restart the kernel to use updated packages.\n",
            "Note: you may need to restart the kernel to use updated packages.\n",
            "Note: you may need to restart the kernel to use updated packages.\n",
            "Note: you may need to restart the kernel to use updated packages.\n"
          ]
        }
      ],
      "source": [
        "# INSTALLATION\n",
        "%pip install -q kaleido\n",
        "%pip install -q ipywidgets\n",
        "%pip install -q pint\n",
        "%pip install -q plotly"
      ]
    },
    {
      "cell_type": "code",
      "execution_count": 21,
      "metadata": {
        "id": "-YmcKWhq8NNW"
      },
      "outputs": [],
      "source": [
        "# IMPORTATION DES LIBRAIRIES\n",
        "import numpy as np\n",
        "import plotly.graph_objects as go\n",
        "import plotly.io as pio\n",
        "from   ipywidgets import interactive\n",
        "\n",
        "# CONFIGURATION\n",
        "pio.templates.default = \"plotly_white\""
      ]
    },
    {
      "cell_type": "code",
      "execution_count": 15,
      "metadata": {
        "id": "KKmIIgTu8sH_"
      },
      "outputs": [],
      "source": [
        "# RÉSOLUTION SYMBOLIQUE"
      ]
    },
    {
      "cell_type": "code",
      "execution_count": 16,
      "metadata": {
        "id": "OVcIWNeE8mHk"
      },
      "outputs": [],
      "source": [
        "# RÉSOLUTION NUMÉRIQUE"
      ]
    },
    {
      "cell_type": "code",
      "execution_count": 17,
      "metadata": {},
      "outputs": [],
      "source": [
        "# PRÉPARATION POUR VISUALISATION\n",
        "def f(x, y, c1, c2):\n",
        "    return c1*x + y**c2"
      ]
    },
    {
      "cell_type": "code",
      "execution_count": 18,
      "metadata": {},
      "outputs": [
        {
          "data": {
            "application/vnd.jupyter.widget-view+json": {
              "model_id": "107ac02785544d3195c20ae0c4260c79",
              "version_major": 2,
              "version_minor": 0
            },
            "text/plain": [
              "interactive(children=(FloatSlider(value=5.0, description='c1', max=10.0, step=0.5), FloatSlider(value=5.0, des…"
            ]
          },
          "metadata": {},
          "output_type": "display_data"
        }
      ],
      "source": [
        "# @title Click `Show code` in the code cell. { display-mode: \"form\" }\n",
        "\n",
        "# VISUALISATION INTERACTIVE\n",
        "def graphique_interactif(c1, c2):\n",
        "\n",
        "    x_vecteur = np.linspace(0,10,100)\n",
        "    y_vecteur = np.linspace(0,10,100)\n",
        "    z_matrice = np.empty((0, len(y_vecteur)))\n",
        "    for x in x_vecteur :\n",
        "        z_liste = []\n",
        "        for y in y_vecteur :\n",
        "            z_liste.append(f(x, y, c1, c2))\n",
        "        z_matrice = np.append(z_matrice,np.array([z_liste]),axis=0)\n",
        "\n",
        "    # VISUALISATION\n",
        "    fig = go.Figure(data = go.Contour(x=x_vecteur, y=y_vecteur, z=z_matrice,\n",
        "                                      contours=dict(start=0,end=100)))\n",
        "\n",
        "    fig.update_layout(dict(title=dict(text=\"Visualisation en courbes de niveaux\",\n",
        "                                    font_size=16),\n",
        "\n",
        "                        xaxis=dict(title=\"x2 [-]\",\n",
        "                                    titlefont_size=16,\n",
        "                                    linecolor=\"black\",\n",
        "                                    showline=True,\n",
        "                                    mirror=True,\n",
        "                                    linewidth=1,\n",
        "                                    gridcolor='darkgray',\n",
        "                                    gridwidth=1,\n",
        "                                    zeroline=False\n",
        "                                    ),\n",
        "\n",
        "                        yaxis=dict(title=\"x1 [-]\",\n",
        "                                    titlefont_size=16,\n",
        "                                    linecolor=\"black\",\n",
        "                                    showline=True,\n",
        "                                    mirror=True,\n",
        "                                    linewidth=1,\n",
        "                                    gridcolor='darkgray',\n",
        "                                    gridwidth=1,\n",
        "                                    zeroline=False\n",
        "                                    ),\n",
        "\n",
        "                        coloraxis=dict(colorbar_title_text=\"x3\"),\n",
        "\n",
        "                        width=350,\n",
        "                        height=350,\n",
        "    ))\n",
        "\n",
        "    fig.show(renderer=\"svg\")\n",
        "\n",
        "\n",
        "interactive_plot = interactive(graphique_interactif, c1=(0.0, 10.0, 0.5), c2=(0.0, 10, 0.5))\n",
        "output = interactive_plot.children[-1]\n",
        "output.layout.height = '500px'\n",
        "interactive_plot\n"
      ]
    }
  ],
  "metadata": {
    "colab": {
      "provenance": [],
      "toc_visible": true
    },
    "kernelspec": {
      "display_name": "Python 3",
      "name": "python3"
    },
    "language_info": {
      "codemirror_mode": {
        "name": "ipython",
        "version": 3
      },
      "file_extension": ".py",
      "mimetype": "text/x-python",
      "name": "python",
      "nbconvert_exporter": "python",
      "pygments_lexer": "ipython3",
      "version": "3.9.13"
    }
  },
  "nbformat": 4,
  "nbformat_minor": 0
}
