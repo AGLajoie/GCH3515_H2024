{
  "cells": [
    {
      "cell_type": "markdown",
      "metadata": {
        "id": "TLungASQ7k96"
      },
      "source": [
        " <div><left><img src=\"https://upload.wikimedia.org/wikipedia/fr/9/99/Logo_Polytechnique_Montr%C3%A9al.png\"\n",
        "width=\"400\"/></div>\n",
        "\n",
        "#   <left> GCH3515 Phénomènes d'échanges — Exemple 01\n",
        "### <left> **Antony Gareau-Lajoie, CPI - Auxiliaire d'enseignement**\n",
        "### <left> Département de génie chimique\n",
        "### <left> Polytechnique Montréal"
      ]
    },
    {
      "cell_type": "code",
      "execution_count": 2,
      "metadata": {
        "colab": {
          "base_uri": "https://localhost:8080/"
        },
        "id": "7wZZQmQOYSgl",
        "outputId": "4d98cbdb-4b07-46c5-f4d1-7898c8f4e76c"
      },
      "outputs": [
        {
          "name": "stdout",
          "output_type": "stream",
          "text": [
            "Note: you may need to restart the kernel to use updated packages.\n",
            "Note: you may need to restart the kernel to use updated packages.\n",
            "Note: you may need to restart the kernel to use updated packages.\n",
            "Note: you may need to restart the kernel to use updated packages.\n"
          ]
        }
      ],
      "source": [
        "# INSTALLATION\n",
        "%pip install -q pint\n",
        "\n",
        "# IMPORTATION DES LIBRAIRIES\n",
        "import pint\n",
        "\n",
        "# CONFIGURATION\n",
        "u = pint.UnitRegistry()\n",
        "\n",
        "# DICTIONNAIRE DES CONSTANTES DU PROBLÈME\n",
        "dico = {\n",
        "    \"t\":1.0   *  u.hour,\n",
        "    \"v\":200.0 * (u.m/u.minute),\n",
        "        }\n",
        "print(dico)\n",
        "\n",
        "# EXEMPLE D'AFFICHAGE\n",
        "temps, vitesse = dico[\"t\"], dico[\"v\"]\n",
        "print(\n",
        "    \"\"\"\n",
        "    En {:.3g} minutes et\n",
        "    en allant à une vitesse de {:.3g} mètres par secondes,\n",
        "    j'ai parcouru {:.1f} kilomètres.\n",
        "    \"\"\".format(temps.to(u.minute).magnitude,\n",
        "               vitesse.to_base_units().magnitude,\n",
        "               (temps*vitesse).to(u.km).magnitude))\n",
        "\n",
        "# RÉSOLUTION SYMBOLIQUE\n",
        "\n",
        "# RÉSOLUTION NUMÉRIQUE"
      ]
    }
  ],
  "metadata": {
    "colab": {
      "provenance": [],
      "toc_visible": true
    },
    "kernelspec": {
      "display_name": "Python 3",
      "name": "python3"
    },
    "language_info": {
      "codemirror_mode": {
        "name": "ipython",
        "version": 3
      },
      "file_extension": ".py",
      "mimetype": "text/x-python",
      "name": "python",
      "nbconvert_exporter": "python",
      "pygments_lexer": "ipython3",
      "version": "3.9.13"
    }
  },
  "nbformat": 4,
  "nbformat_minor": 0
}
